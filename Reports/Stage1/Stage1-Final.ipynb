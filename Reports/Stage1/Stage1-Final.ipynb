{
 "cells": [
  {
   "cell_type": "markdown",
   "id": "b47177bf-f549-4108-a7e0-8f12d37b699a",
   "metadata": {},
   "source": [
    "# **Project: Stage I (Problem and Tasks)**\n",
    "# COVID-19 Data Analysis\n",
    "## Description\n",
    "COVID-19 is a continuing worldwide pandemic which has affected a lot of people, including you. Our goal with the major project in this class is to develop an analytical framework to study the data coming from the United States, to understand patterns of COVID-19 effects and spread.\n",
    "\n",
    "In order to achieve that, the project is separated into four stages:\n",
    "\n",
    "- Stage I: Data and Project Understanding\n",
    "- Stage II: Data Modeling and Hypothesis Testing\n",
    "- Stage III: Basic Machine Learning\n",
    "- Stage IV: Dashboard"
   ]
  },
  {
   "cell_type": "markdown",
   "id": "752163e0-5d9f-41da-b0a2-c2d494ee8ca0",
   "metadata": {},
   "source": [
    "## Project Stage I: Data and Project Understanding\n",
    "## COVID-19 Dataset\n",
    "We'll utilize data from usfacts.org. The dataset contains daily county-level trackers of COVID-19 cases. This makes it easy to follow COVID-19 cases on a granular level, as does the ability to break down infections per 100,000 people (with population data). The underlying data is available for download below the US county map, and has helped government agencies like the Centers for Disease Control and Prevention in its nationwide efforts.\n",
    "\n",
    "- [USA Facts: US COVID-19 cases and deaths by state](https://usafacts.org/visualizations/coronavirus-covid-19-spread-map/)\n",
    "- [USA Facts: Number of Cases (.csv file)](https://usafactsstatic.blob.core.windows.net/public/data/covid-19/covid_confirmed_usafacts.csv)\n",
    "- [USA Facts: Number of Deaths (.csv file)](https://usafactsstatic.blob.core.windows.net/public/data/covid-19/covid_deaths_usafacts.csv)\n",
    "- [USA Facts: Population by County (.csv file)](https://usafactsstatic.blob.core.windows.net/public/data/covid-19/covid_county_population_usafacts.csv) "
   ]
  },
  {
   "cell_type": "markdown",
   "id": "604ec52a-ee77-43f3-8aae-1c6ce1e9da7c",
   "metadata": {},
   "source": [
    "## Task 1\n",
    "The entire team looks at the COVID-19 dataset and understands the type of variables present in each of the data.\n",
    "\n",
    "### Team\n",
    "- Section in the report describing the COVID-19 dataset and datatype: variable dictionary.\n",
    "- Preliminary intuitions from the data.\n",
    "- Each member of the team takes on an enrichment dataset. They read the data descriptions and understand the variables present in the data.\n",
    "\n",
    "### Individual\n",
    "- Section in the report describing the enrichment data and datatype: variable dictionary.\n",
    "- How can you merge the data with the primary COVID-19 dataset? Identify the individual variable which maps between the datasets.\n",
    "- Describe how your enrichment data can help in the analysis of COVID-19 spread. Pose initial hypothesis questions."
   ]
  },
  {
   "cell_type": "code",
   "execution_count": 147,
   "id": "762691bb-c709-4569-8f70-a8ec4454b014",
   "metadata": {},
   "outputs": [],
   "source": [
    "import os # operating system\n",
    "import numpy as np # linear algebra\n",
    "import pandas as pd # data processing, CSV file I/O (e.g. pd.read_csv)\n",
    "import string\n",
    "import random\n",
    "import datetime\n",
    "import matplotlib.pyplot as plt\n",
    "%matplotlib inline"
   ]
  },
  {
   "cell_type": "markdown",
   "id": "34a34043-291b-4b81-9956-8cdeba8749e3",
   "metadata": {},
   "source": [
    "##### We have imported all required libraries for Team task, Covid-19 data analysis"
   ]
  },
  {
   "cell_type": "code",
   "execution_count": 148,
   "id": "2384e288-eeac-41f0-9648-719e982643c5",
   "metadata": {},
   "outputs": [],
   "source": [
    "USConfirmCasesDF = pd.read_csv(\"..\\\\..\\\\Data\\\\covid_confirmed_usafacts.csv\")\n",
    "USDeathsDF = pd.read_csv(\"..\\\\..\\\\Data\\\\covid_deaths_usafacts.csv\")\n",
    "USCountyPopulationDF = pd.read_csv(\"..\\\\..\\\\Data\\\\covid_county_population_usafacts.csv\")"
   ]
  },
  {
   "cell_type": "markdown",
   "id": "b23aa6f4-c5d2-484d-9373-e5e4d02d48ae",
   "metadata": {},
   "source": [
    "##### We have downloaded latest data from provided website *USA Facts: US COVID-19 cases and deaths by state* for below datasets. \n",
    "###### US County level data available until Feb 10th 2022 for all states\n",
    "- Covid19 Confirmed Cases\n",
    "- Covid19 Death Cases \n",
    "- County Population "
   ]
  },
  {
   "cell_type": "code",
   "execution_count": 149,
   "id": "26b83524-a4ed-4621-bfb1-ac7b86afbe47",
   "metadata": {},
   "outputs": [
    {
     "name": "stdout",
     "output_type": "stream",
     "text": [
      "<class 'pandas.core.frame.DataFrame'>\n",
      "RangeIndex: 3193 entries, 0 to 3192\n",
      "Columns: 755 entries, countyFIPS to 2022-02-10\n",
      "dtypes: int64(753), object(2)\n",
      "memory usage: 18.4+ MB\n"
     ]
    }
   ],
   "source": [
    "USConfirmCasesDF.info()"
   ]
  },
  {
   "cell_type": "markdown",
   "id": "f037085b-aa87-41a2-8eac-2328f82c4439",
   "metadata": {},
   "source": [
    "##### We see that US Covid19 Confirmed Cases Dataset contains 3193 observations and 755 columns(753 Integers & 2 Object datatypes)"
   ]
  },
  {
   "cell_type": "code",
   "execution_count": 150,
   "id": "a5d0cdd6-ee69-4f26-9130-b076956b232a",
   "metadata": {},
   "outputs": [
    {
     "name": "stdout",
     "output_type": "stream",
     "text": [
      "<class 'pandas.core.frame.DataFrame'>\n",
      "RangeIndex: 3193 entries, 0 to 3192\n",
      "Columns: 755 entries, countyFIPS to 2022-02-10\n",
      "dtypes: int64(753), object(2)\n",
      "memory usage: 18.4+ MB\n"
     ]
    }
   ],
   "source": [
    "USDeathsDF.info()"
   ]
  },
  {
   "cell_type": "markdown",
   "id": "9138c34c-cec8-482c-ba9d-bbad9e071adb",
   "metadata": {},
   "source": [
    "##### We see that US Covid19 Death Cases Dataset also contains 3193 observations and 755 columns(753 Integers & 2 Object datatypes)"
   ]
  },
  {
   "cell_type": "code",
   "execution_count": 151,
   "id": "63f5cc8b-9fae-41f3-a0e8-761023f9ce6e",
   "metadata": {},
   "outputs": [
    {
     "name": "stdout",
     "output_type": "stream",
     "text": [
      "<class 'pandas.core.frame.DataFrame'>\n",
      "RangeIndex: 3195 entries, 0 to 3194\n",
      "Data columns (total 4 columns):\n",
      " #   Column       Non-Null Count  Dtype \n",
      "---  ------       --------------  ----- \n",
      " 0   countyFIPS   3195 non-null   int64 \n",
      " 1   County Name  3195 non-null   object\n",
      " 2   State        3195 non-null   object\n",
      " 3   population   3195 non-null   int64 \n",
      "dtypes: int64(2), object(2)\n",
      "memory usage: 100.0+ KB\n"
     ]
    }
   ],
   "source": [
    "USCountyPopulationDF.info()"
   ]
  },
  {
   "cell_type": "markdown",
   "id": "3f5daef4-25f9-4777-8597-648993ba0150",
   "metadata": {},
   "source": [
    "##### We observe that US County Population Dataset contains 3195 observations and 4 columns(2 Integers & 2 Object datatypes). All of these data columns does not contain any NaN, NA values."
   ]
  },
  {
   "cell_type": "code",
   "execution_count": 152,
   "id": "eba06bc3-9e45-4616-a7fc-2823d5db7247",
   "metadata": {},
   "outputs": [
    {
     "data": {
      "text/plain": [
       "countyFIPS     0\n",
       "County Name    0\n",
       "State          0\n",
       "StateFIPS      0\n",
       "2020-01-22     0\n",
       "              ..\n",
       "2022-02-06     0\n",
       "2022-02-07     0\n",
       "2022-02-08     0\n",
       "2022-02-09     0\n",
       "2022-02-10     0\n",
       "Length: 755, dtype: int64"
      ]
     },
     "execution_count": 152,
     "metadata": {},
     "output_type": "execute_result"
    }
   ],
   "source": [
    "USConfirmCasesDF.isnull().sum()"
   ]
  },
  {
   "cell_type": "markdown",
   "id": "b10a20cc-3448-4214-ac4f-2e6e5a9b03bf",
   "metadata": {},
   "source": [
    "##### We also verified US Coovid19 Confirm Case data has any null columns and didnt find any, above results shows all Null counts are Zero(0)"
   ]
  },
  {
   "cell_type": "code",
   "execution_count": 153,
   "id": "d3e96044-016f-4316-af27-af1967bc2280",
   "metadata": {},
   "outputs": [
    {
     "data": {
      "text/plain": [
       "countyFIPS     0\n",
       "County Name    0\n",
       "State          0\n",
       "StateFIPS      0\n",
       "2020-01-22     0\n",
       "              ..\n",
       "2022-02-06     0\n",
       "2022-02-07     0\n",
       "2022-02-08     0\n",
       "2022-02-09     0\n",
       "2022-02-10     0\n",
       "Length: 755, dtype: int64"
      ]
     },
     "execution_count": 153,
     "metadata": {},
     "output_type": "execute_result"
    }
   ],
   "source": [
    "USDeathsDF.isnull().sum()"
   ]
  },
  {
   "cell_type": "markdown",
   "id": "2c4dd2d6-055a-4f5d-9c69-a275bf18e3c9",
   "metadata": {},
   "source": [
    "##### We also verified US Coovid19 Death data has any null columns and didnt find any, above results shows all Null counts are Zero(0)"
   ]
  },
  {
   "cell_type": "code",
   "execution_count": 154,
   "id": "0db33aed-04c4-49ed-8e15-4e1723afb2f6",
   "metadata": {},
   "outputs": [],
   "source": [
    "USConfirmCasesDF.rename(columns={'countyFIPS': 'CountyFIPS', 'County Name': 'CountyName'}, inplace=True)\n",
    "USDeathsDF.rename(columns={'countyFIPS': 'CountyFIPS', 'County Name': 'CountyName'}, inplace=True)\n",
    "USCountyPopulationDF.rename(columns={'countyFIPS': 'CountyFIPS', 'County Name': 'CountyName', 'population': 'Population'}, inplace=True)"
   ]
  },
  {
   "cell_type": "markdown",
   "id": "5811eb77-b66b-42bd-bd49-90a9f6a20eb2",
   "metadata": {},
   "source": [
    "##### As per unique naming standards and easy understand code , we have renamed all columns with Init CAPS. Ex: County Name to CountyName, countyFIPS to CountyFIPS"
   ]
  },
  {
   "cell_type": "code",
   "execution_count": 155,
   "id": "f6f77496-962d-4d6c-af03-7cf6e5bc441f",
   "metadata": {},
   "outputs": [
    {
     "data": {
      "text/html": [
       "<div>\n",
       "<style scoped>\n",
       "    .dataframe tbody tr th:only-of-type {\n",
       "        vertical-align: middle;\n",
       "    }\n",
       "\n",
       "    .dataframe tbody tr th {\n",
       "        vertical-align: top;\n",
       "    }\n",
       "\n",
       "    .dataframe thead th {\n",
       "        text-align: right;\n",
       "    }\n",
       "</style>\n",
       "<table border=\"1\" class=\"dataframe\">\n",
       "  <thead>\n",
       "    <tr style=\"text-align: right;\">\n",
       "      <th></th>\n",
       "      <th>ReportDate</th>\n",
       "      <th>StateFIPS</th>\n",
       "      <th>State</th>\n",
       "      <th>CountyFIPS</th>\n",
       "      <th>CountyName</th>\n",
       "      <th>ConfirmCasesCount</th>\n",
       "    </tr>\n",
       "  </thead>\n",
       "  <tbody>\n",
       "    <tr>\n",
       "      <th>0</th>\n",
       "      <td>2020-01-22</td>\n",
       "      <td>1</td>\n",
       "      <td>AL</td>\n",
       "      <td>0</td>\n",
       "      <td>Statewide Unallocated</td>\n",
       "      <td>0</td>\n",
       "    </tr>\n",
       "    <tr>\n",
       "      <th>1</th>\n",
       "      <td>2020-01-22</td>\n",
       "      <td>1</td>\n",
       "      <td>AL</td>\n",
       "      <td>1001</td>\n",
       "      <td>Autauga County</td>\n",
       "      <td>0</td>\n",
       "    </tr>\n",
       "    <tr>\n",
       "      <th>2</th>\n",
       "      <td>2020-01-22</td>\n",
       "      <td>1</td>\n",
       "      <td>AL</td>\n",
       "      <td>1003</td>\n",
       "      <td>Baldwin County</td>\n",
       "      <td>0</td>\n",
       "    </tr>\n",
       "    <tr>\n",
       "      <th>3</th>\n",
       "      <td>2020-01-22</td>\n",
       "      <td>1</td>\n",
       "      <td>AL</td>\n",
       "      <td>1005</td>\n",
       "      <td>Barbour County</td>\n",
       "      <td>0</td>\n",
       "    </tr>\n",
       "    <tr>\n",
       "      <th>4</th>\n",
       "      <td>2020-01-22</td>\n",
       "      <td>1</td>\n",
       "      <td>AL</td>\n",
       "      <td>1007</td>\n",
       "      <td>Bibb County</td>\n",
       "      <td>0</td>\n",
       "    </tr>\n",
       "  </tbody>\n",
       "</table>\n",
       "</div>"
      ],
      "text/plain": [
       "   ReportDate  StateFIPS State  CountyFIPS             CountyName  \\\n",
       "0  2020-01-22          1    AL           0  Statewide Unallocated   \n",
       "1  2020-01-22          1    AL        1001        Autauga County    \n",
       "2  2020-01-22          1    AL        1003        Baldwin County    \n",
       "3  2020-01-22          1    AL        1005        Barbour County    \n",
       "4  2020-01-22          1    AL        1007           Bibb County    \n",
       "\n",
       "   ConfirmCasesCount  \n",
       "0                  0  \n",
       "1                  0  \n",
       "2                  0  \n",
       "3                  0  \n",
       "4                  0  "
      ]
     },
     "execution_count": 155,
     "metadata": {},
     "output_type": "execute_result"
    }
   ],
   "source": [
    "VarIndex = ['State', 'StateFIPS', 'CountyFIPS', 'CountyName']\n",
    "VarValue = USConfirmCasesDF.columns.difference(VarIndex)\n",
    "USConfirmCasesLongDF = USConfirmCasesDF.melt(id_vars=VarIndex, value_vars = VarValue, var_name='ReportDate', value_name='ConfirmCasesCount')\n",
    "USConfirmCasesLongDF = USConfirmCasesLongDF[['ReportDate', 'StateFIPS', 'State', 'CountyFIPS', 'CountyName', 'ConfirmCasesCount']]\n",
    "USConfirmCasesLongDF.head()"
   ]
  },
  {
   "cell_type": "markdown",
   "id": "962e0c5e-3622-42ef-a534-949f77043500",
   "metadata": {},
   "source": [
    "##### We have observe that US Covid19 Confirmed Cases is wide dataset, which needs to make long dataset to combine & use with other datasets.\n",
    "- Taken all common columns for Indexing into variable VarIndex. i.e. State, StateFIPS, CountyFIPS, CountyName\n",
    "- And then taken rest of all columns(755-4=751) into another variable VarValue\n",
    "- We have used Pandas Melt function to convert Pivot to unpivot table by passing VarIndex & Varvalue\n",
    "- Named New columns as \"ReportDate\" and \"ConfirmCaseCount\"\n",
    "- And also rearranged columns as per standards and easy understand"
   ]
  },
  {
   "cell_type": "code",
   "execution_count": 156,
   "id": "6fa84f1e-9e9e-4bda-92be-4f1a10dc5407",
   "metadata": {},
   "outputs": [
    {
     "data": {
      "text/html": [
       "<div>\n",
       "<style scoped>\n",
       "    .dataframe tbody tr th:only-of-type {\n",
       "        vertical-align: middle;\n",
       "    }\n",
       "\n",
       "    .dataframe tbody tr th {\n",
       "        vertical-align: top;\n",
       "    }\n",
       "\n",
       "    .dataframe thead th {\n",
       "        text-align: right;\n",
       "    }\n",
       "</style>\n",
       "<table border=\"1\" class=\"dataframe\">\n",
       "  <thead>\n",
       "    <tr style=\"text-align: right;\">\n",
       "      <th></th>\n",
       "      <th>ReportDate</th>\n",
       "      <th>StateFIPS</th>\n",
       "      <th>State</th>\n",
       "      <th>CountyFIPS</th>\n",
       "      <th>CountyName</th>\n",
       "      <th>DeathCount</th>\n",
       "    </tr>\n",
       "  </thead>\n",
       "  <tbody>\n",
       "    <tr>\n",
       "      <th>0</th>\n",
       "      <td>2020-01-22</td>\n",
       "      <td>1</td>\n",
       "      <td>AL</td>\n",
       "      <td>0</td>\n",
       "      <td>Statewide Unallocated</td>\n",
       "      <td>0</td>\n",
       "    </tr>\n",
       "    <tr>\n",
       "      <th>1</th>\n",
       "      <td>2020-01-22</td>\n",
       "      <td>1</td>\n",
       "      <td>AL</td>\n",
       "      <td>1001</td>\n",
       "      <td>Autauga County</td>\n",
       "      <td>0</td>\n",
       "    </tr>\n",
       "    <tr>\n",
       "      <th>2</th>\n",
       "      <td>2020-01-22</td>\n",
       "      <td>1</td>\n",
       "      <td>AL</td>\n",
       "      <td>1003</td>\n",
       "      <td>Baldwin County</td>\n",
       "      <td>0</td>\n",
       "    </tr>\n",
       "    <tr>\n",
       "      <th>3</th>\n",
       "      <td>2020-01-22</td>\n",
       "      <td>1</td>\n",
       "      <td>AL</td>\n",
       "      <td>1005</td>\n",
       "      <td>Barbour County</td>\n",
       "      <td>0</td>\n",
       "    </tr>\n",
       "    <tr>\n",
       "      <th>4</th>\n",
       "      <td>2020-01-22</td>\n",
       "      <td>1</td>\n",
       "      <td>AL</td>\n",
       "      <td>1007</td>\n",
       "      <td>Bibb County</td>\n",
       "      <td>0</td>\n",
       "    </tr>\n",
       "  </tbody>\n",
       "</table>\n",
       "</div>"
      ],
      "text/plain": [
       "   ReportDate  StateFIPS State  CountyFIPS             CountyName  DeathCount\n",
       "0  2020-01-22          1    AL           0  Statewide Unallocated           0\n",
       "1  2020-01-22          1    AL        1001        Autauga County            0\n",
       "2  2020-01-22          1    AL        1003        Baldwin County            0\n",
       "3  2020-01-22          1    AL        1005        Barbour County            0\n",
       "4  2020-01-22          1    AL        1007           Bibb County            0"
      ]
     },
     "execution_count": 156,
     "metadata": {},
     "output_type": "execute_result"
    }
   ],
   "source": [
    "VarIndex = ['State', 'StateFIPS', 'CountyFIPS', 'CountyName']\n",
    "VarValue = USDeathsDF.columns.difference(VarIndex)\n",
    "USDeathsLongDF = USDeathsDF.melt(id_vars=VarIndex, value_vars = VarValue, var_name='ReportDate', value_name='DeathCount')\n",
    "USDeathsLongDF = USDeathsLongDF[['ReportDate', 'StateFIPS', 'State', 'CountyFIPS', 'CountyName', 'DeathCount']]\n",
    "USDeathsLongDF.head()"
   ]
  },
  {
   "cell_type": "markdown",
   "id": "244774c7-c8ab-412c-afb4-f22057663da0",
   "metadata": {},
   "source": [
    "##### We have observe that US Covid19 Death is wide dataset, which needs to make long dataset to combine & use with other datasets.\n",
    "- Taken all common columns for Indexing into variable VarIndex. i.e. State, StateFIPS, CountyFIPS, CountyName\n",
    "- And then taken rest of all columns(755-4=751) into another variable VarValue\n",
    "- We have used Pandas Melt function to convert Pivot to unpivot table by passing VarIndex & Varvalue\n",
    "- Named New columns as \"ReportDate\" and \"DeathCount\"\n",
    "- And also rearranged columns as per standards and easy understand"
   ]
  },
  {
   "cell_type": "code",
   "execution_count": 157,
   "id": "fbe5faba-056d-4521-a872-967a0ae9670f",
   "metadata": {},
   "outputs": [
    {
     "name": "stdout",
     "output_type": "stream",
     "text": [
      "<class 'pandas.core.frame.DataFrame'>\n",
      "RangeIndex: 2397943 entries, 0 to 2397942\n",
      "Data columns (total 6 columns):\n",
      " #   Column             Dtype \n",
      "---  ------             ----- \n",
      " 0   ReportDate         object\n",
      " 1   StateFIPS          int64 \n",
      " 2   State              object\n",
      " 3   CountyFIPS         int64 \n",
      " 4   CountyName         object\n",
      " 5   ConfirmCasesCount  int64 \n",
      "dtypes: int64(3), object(3)\n",
      "memory usage: 109.8+ MB\n"
     ]
    }
   ],
   "source": [
    "USConfirmCasesLongDF.info()"
   ]
  },
  {
   "cell_type": "markdown",
   "id": "d544a29c-5947-4107-ac0a-a0e6639f8db9",
   "metadata": {},
   "source": [
    "##### We have verified after converision of long format datatypes, observations & columns\n",
    "- Observations increased from 3193 to 2,397,943 rows for each report date, it shows Confirm Case Count by State, StateFIPS, CountyFIPS, CountyName\n",
    "- Total 6 columns with ReportDate, State, CountyName are Object, StateFIPS, CountyFIPS, ConfirmCaseCount are Integers"
   ]
  },
  {
   "cell_type": "code",
   "execution_count": 158,
   "id": "32e1de91-335c-4c63-9a09-48f7a5984d0e",
   "metadata": {},
   "outputs": [
    {
     "name": "stdout",
     "output_type": "stream",
     "text": [
      "<class 'pandas.core.frame.DataFrame'>\n",
      "RangeIndex: 2397943 entries, 0 to 2397942\n",
      "Data columns (total 6 columns):\n",
      " #   Column      Dtype \n",
      "---  ------      ----- \n",
      " 0   ReportDate  object\n",
      " 1   StateFIPS   int64 \n",
      " 2   State       object\n",
      " 3   CountyFIPS  int64 \n",
      " 4   CountyName  object\n",
      " 5   DeathCount  int64 \n",
      "dtypes: int64(3), object(3)\n",
      "memory usage: 109.8+ MB\n"
     ]
    }
   ],
   "source": [
    "USDeathsLongDF.info()"
   ]
  },
  {
   "cell_type": "markdown",
   "id": "4a9e9773-c34c-4c7f-9f41-f87ae25b6000",
   "metadata": {},
   "source": [
    "##### We have verified after converision of long format datatypes, observations & columns\n",
    "- Observations increased from 3193 to 2,397,943 rows for each report date, it shows Confirm Case Count by State, StateFIPS, CountyFIPS, CountyName\n",
    "- Total 6 columns with ReportDate, State, CountyName are Object, StateFIPS, CountyFIPS, DeathCount are Integers"
   ]
  },
  {
   "cell_type": "code",
   "execution_count": 159,
   "id": "ca8788a9-3a36-4d88-821d-ace467de688e",
   "metadata": {},
   "outputs": [
    {
     "data": {
      "text/html": [
       "<div>\n",
       "<style scoped>\n",
       "    .dataframe tbody tr th:only-of-type {\n",
       "        vertical-align: middle;\n",
       "    }\n",
       "\n",
       "    .dataframe tbody tr th {\n",
       "        vertical-align: top;\n",
       "    }\n",
       "\n",
       "    .dataframe thead th {\n",
       "        text-align: right;\n",
       "    }\n",
       "</style>\n",
       "<table border=\"1\" class=\"dataframe\">\n",
       "  <thead>\n",
       "    <tr style=\"text-align: right;\">\n",
       "      <th></th>\n",
       "      <th>ReportDate</th>\n",
       "      <th>StateFIPS</th>\n",
       "      <th>State</th>\n",
       "      <th>CountyFIPS</th>\n",
       "      <th>CountyName</th>\n",
       "      <th>ConfirmCasesCount</th>\n",
       "      <th>DeathCount</th>\n",
       "    </tr>\n",
       "  </thead>\n",
       "  <tbody>\n",
       "    <tr>\n",
       "      <th>0</th>\n",
       "      <td>2020-01-22</td>\n",
       "      <td>1</td>\n",
       "      <td>AL</td>\n",
       "      <td>0</td>\n",
       "      <td>Statewide Unallocated</td>\n",
       "      <td>0</td>\n",
       "      <td>0</td>\n",
       "    </tr>\n",
       "    <tr>\n",
       "      <th>1</th>\n",
       "      <td>2020-01-22</td>\n",
       "      <td>1</td>\n",
       "      <td>AL</td>\n",
       "      <td>1001</td>\n",
       "      <td>Autauga County</td>\n",
       "      <td>0</td>\n",
       "      <td>0</td>\n",
       "    </tr>\n",
       "    <tr>\n",
       "      <th>2</th>\n",
       "      <td>2020-01-22</td>\n",
       "      <td>1</td>\n",
       "      <td>AL</td>\n",
       "      <td>1003</td>\n",
       "      <td>Baldwin County</td>\n",
       "      <td>0</td>\n",
       "      <td>0</td>\n",
       "    </tr>\n",
       "    <tr>\n",
       "      <th>3</th>\n",
       "      <td>2020-01-22</td>\n",
       "      <td>1</td>\n",
       "      <td>AL</td>\n",
       "      <td>1005</td>\n",
       "      <td>Barbour County</td>\n",
       "      <td>0</td>\n",
       "      <td>0</td>\n",
       "    </tr>\n",
       "    <tr>\n",
       "      <th>4</th>\n",
       "      <td>2020-01-22</td>\n",
       "      <td>1</td>\n",
       "      <td>AL</td>\n",
       "      <td>1007</td>\n",
       "      <td>Bibb County</td>\n",
       "      <td>0</td>\n",
       "      <td>0</td>\n",
       "    </tr>\n",
       "  </tbody>\n",
       "</table>\n",
       "</div>"
      ],
      "text/plain": [
       "   ReportDate  StateFIPS State  CountyFIPS             CountyName  \\\n",
       "0  2020-01-22          1    AL           0  Statewide Unallocated   \n",
       "1  2020-01-22          1    AL        1001        Autauga County    \n",
       "2  2020-01-22          1    AL        1003        Baldwin County    \n",
       "3  2020-01-22          1    AL        1005        Barbour County    \n",
       "4  2020-01-22          1    AL        1007           Bibb County    \n",
       "\n",
       "   ConfirmCasesCount  DeathCount  \n",
       "0                  0           0  \n",
       "1                  0           0  \n",
       "2                  0           0  \n",
       "3                  0           0  \n",
       "4                  0           0  "
      ]
     },
     "execution_count": 159,
     "metadata": {},
     "output_type": "execute_result"
    }
   ],
   "source": [
    "JoinKeys = ['ReportDate', 'StateFIPS', 'State', 'CountyFIPS', 'CountyName']\n",
    "USConfirmCasesDeathsDF = pd.merge(USConfirmCasesLongDF, USDeathsLongDF,on=JoinKeys, how='outer')\n",
    "USConfirmCasesDeathsDF.head()"
   ]
  },
  {
   "cell_type": "markdown",
   "id": "186af759-0b64-4c4b-b40a-b9c51944e409",
   "metadata": {},
   "source": [
    "##### We have merged US Covid19 Confirmed Cases and Death datasets by using below steps.\n",
    "- Taken all common columns between data sets. i.e. State, StateFIPS, CountyFIPS, CountyName\n",
    "- Even though we can just join based on StateFIPS, CountyFIPS, we have taken Names as well since they all come from same soure i.e. usafacts.org\n",
    "- We have tested with and without names, both gives same results.\n",
    "- Also to avoid missing data due to joins, we have used Outer join.\n",
    "- So merged based on above columns and verified data, they are all looks good"
   ]
  },
  {
   "cell_type": "code",
   "execution_count": 160,
   "id": "19b49397-f0bc-42d6-983f-ad7204f9f332",
   "metadata": {},
   "outputs": [
    {
     "name": "stdout",
     "output_type": "stream",
     "text": [
      "<class 'pandas.core.frame.DataFrame'>\n",
      "Int64Index: 2397943 entries, 0 to 2397942\n",
      "Data columns (total 7 columns):\n",
      " #   Column             Dtype \n",
      "---  ------             ----- \n",
      " 0   ReportDate         object\n",
      " 1   StateFIPS          int64 \n",
      " 2   State              object\n",
      " 3   CountyFIPS         int64 \n",
      " 4   CountyName         object\n",
      " 5   ConfirmCasesCount  int64 \n",
      " 6   DeathCount         int64 \n",
      "dtypes: int64(4), object(3)\n",
      "memory usage: 146.4+ MB\n"
     ]
    }
   ],
   "source": [
    "USConfirmCasesDeathsDF.info()"
   ]
  },
  {
   "cell_type": "markdown",
   "id": "397fc7b7-5398-4bd4-8353-5c4f18083635",
   "metadata": {},
   "source": [
    "##### We observe that combined data for US Confirm and Deaths data \"USConfirmCasesDeathsDF\" shows same amount of rows 2,397,943 with 7 columns\n",
    "-  Total 7 columns with ReportDate, State, CountyName are Object, StateFIPS, CountyFIPS, ConfirmCaseCount, DeathCount are Integers"
   ]
  },
  {
   "cell_type": "code",
   "execution_count": 161,
   "id": "6201a283-85e3-4d5f-8364-f8faedb7a380",
   "metadata": {},
   "outputs": [
    {
     "data": {
      "text/plain": [
       "ReportDate           0\n",
       "StateFIPS            0\n",
       "State                0\n",
       "CountyFIPS           0\n",
       "CountyName           0\n",
       "ConfirmCasesCount    0\n",
       "DeathCount           0\n",
       "dtype: int64"
      ]
     },
     "execution_count": 161,
     "metadata": {},
     "output_type": "execute_result"
    }
   ],
   "source": [
    "USConfirmCasesDeathsDF.isnull().sum()"
   ]
  },
  {
   "cell_type": "markdown",
   "id": "21ef89aa-4839-4397-8e7c-f3b9d0cc9443",
   "metadata": {},
   "source": [
    "##### We verified data and no nulls exists in all columns."
   ]
  },
  {
   "cell_type": "code",
   "execution_count": 162,
   "id": "27563d61-0ec4-4bf5-918f-3015b18c7305",
   "metadata": {},
   "outputs": [
    {
     "data": {
      "text/html": [
       "<div>\n",
       "<style scoped>\n",
       "    .dataframe tbody tr th:only-of-type {\n",
       "        vertical-align: middle;\n",
       "    }\n",
       "\n",
       "    .dataframe tbody tr th {\n",
       "        vertical-align: top;\n",
       "    }\n",
       "\n",
       "    .dataframe thead th {\n",
       "        text-align: right;\n",
       "    }\n",
       "</style>\n",
       "<table border=\"1\" class=\"dataframe\">\n",
       "  <thead>\n",
       "    <tr style=\"text-align: right;\">\n",
       "      <th></th>\n",
       "      <th>CountyFIPS</th>\n",
       "      <th>CountyName</th>\n",
       "      <th>State</th>\n",
       "      <th>Population</th>\n",
       "    </tr>\n",
       "  </thead>\n",
       "  <tbody>\n",
       "    <tr>\n",
       "      <th>0</th>\n",
       "      <td>0</td>\n",
       "      <td>Statewide Unallocated</td>\n",
       "      <td>AL</td>\n",
       "      <td>0</td>\n",
       "    </tr>\n",
       "    <tr>\n",
       "      <th>1</th>\n",
       "      <td>1001</td>\n",
       "      <td>Autauga County</td>\n",
       "      <td>AL</td>\n",
       "      <td>55869</td>\n",
       "    </tr>\n",
       "    <tr>\n",
       "      <th>2</th>\n",
       "      <td>1003</td>\n",
       "      <td>Baldwin County</td>\n",
       "      <td>AL</td>\n",
       "      <td>223234</td>\n",
       "    </tr>\n",
       "    <tr>\n",
       "      <th>3</th>\n",
       "      <td>1005</td>\n",
       "      <td>Barbour County</td>\n",
       "      <td>AL</td>\n",
       "      <td>24686</td>\n",
       "    </tr>\n",
       "    <tr>\n",
       "      <th>4</th>\n",
       "      <td>1007</td>\n",
       "      <td>Bibb County</td>\n",
       "      <td>AL</td>\n",
       "      <td>22394</td>\n",
       "    </tr>\n",
       "  </tbody>\n",
       "</table>\n",
       "</div>"
      ],
      "text/plain": [
       "   CountyFIPS             CountyName State  Population\n",
       "0           0  Statewide Unallocated    AL           0\n",
       "1        1001         Autauga County    AL       55869\n",
       "2        1003         Baldwin County    AL      223234\n",
       "3        1005         Barbour County    AL       24686\n",
       "4        1007            Bibb County    AL       22394"
      ]
     },
     "execution_count": 162,
     "metadata": {},
     "output_type": "execute_result"
    }
   ],
   "source": [
    "USCountyPopulationDF.head()"
   ]
  },
  {
   "cell_type": "markdown",
   "id": "b154489a-45cf-4a31-a9e2-12bec2f267ea",
   "metadata": {},
   "source": [
    "##### Before join population data, we have verified US Population data for all counties."
   ]
  },
  {
   "cell_type": "code",
   "execution_count": 163,
   "id": "9689f5ad-bbdc-4506-bda0-e204a3a0e3d6",
   "metadata": {},
   "outputs": [
    {
     "data": {
      "text/html": [
       "<div>\n",
       "<style scoped>\n",
       "    .dataframe tbody tr th:only-of-type {\n",
       "        vertical-align: middle;\n",
       "    }\n",
       "\n",
       "    .dataframe tbody tr th {\n",
       "        vertical-align: top;\n",
       "    }\n",
       "\n",
       "    .dataframe thead th {\n",
       "        text-align: right;\n",
       "    }\n",
       "</style>\n",
       "<table border=\"1\" class=\"dataframe\">\n",
       "  <thead>\n",
       "    <tr style=\"text-align: right;\">\n",
       "      <th></th>\n",
       "      <th>ReportDate</th>\n",
       "      <th>StateFIPS</th>\n",
       "      <th>State</th>\n",
       "      <th>CountyFIPS</th>\n",
       "      <th>CountyName</th>\n",
       "      <th>ConfirmCasesCount</th>\n",
       "      <th>DeathCount</th>\n",
       "      <th>Population</th>\n",
       "    </tr>\n",
       "  </thead>\n",
       "  <tbody>\n",
       "    <tr>\n",
       "      <th>0</th>\n",
       "      <td>2020-01-22</td>\n",
       "      <td>1</td>\n",
       "      <td>AL</td>\n",
       "      <td>0</td>\n",
       "      <td>Statewide Unallocated</td>\n",
       "      <td>0</td>\n",
       "      <td>0</td>\n",
       "      <td>0.0</td>\n",
       "    </tr>\n",
       "    <tr>\n",
       "      <th>1</th>\n",
       "      <td>2020-01-22</td>\n",
       "      <td>1</td>\n",
       "      <td>AL</td>\n",
       "      <td>1001</td>\n",
       "      <td>Autauga County</td>\n",
       "      <td>0</td>\n",
       "      <td>0</td>\n",
       "      <td>55869.0</td>\n",
       "    </tr>\n",
       "    <tr>\n",
       "      <th>2</th>\n",
       "      <td>2020-01-22</td>\n",
       "      <td>1</td>\n",
       "      <td>AL</td>\n",
       "      <td>1003</td>\n",
       "      <td>Baldwin County</td>\n",
       "      <td>0</td>\n",
       "      <td>0</td>\n",
       "      <td>223234.0</td>\n",
       "    </tr>\n",
       "    <tr>\n",
       "      <th>3</th>\n",
       "      <td>2020-01-22</td>\n",
       "      <td>1</td>\n",
       "      <td>AL</td>\n",
       "      <td>1005</td>\n",
       "      <td>Barbour County</td>\n",
       "      <td>0</td>\n",
       "      <td>0</td>\n",
       "      <td>24686.0</td>\n",
       "    </tr>\n",
       "    <tr>\n",
       "      <th>4</th>\n",
       "      <td>2020-01-22</td>\n",
       "      <td>1</td>\n",
       "      <td>AL</td>\n",
       "      <td>1007</td>\n",
       "      <td>Bibb County</td>\n",
       "      <td>0</td>\n",
       "      <td>0</td>\n",
       "      <td>22394.0</td>\n",
       "    </tr>\n",
       "  </tbody>\n",
       "</table>\n",
       "</div>"
      ],
      "text/plain": [
       "   ReportDate  StateFIPS State  CountyFIPS             CountyName  \\\n",
       "0  2020-01-22          1    AL           0  Statewide Unallocated   \n",
       "1  2020-01-22          1    AL        1001         Autauga County   \n",
       "2  2020-01-22          1    AL        1003         Baldwin County   \n",
       "3  2020-01-22          1    AL        1005         Barbour County   \n",
       "4  2020-01-22          1    AL        1007            Bibb County   \n",
       "\n",
       "   ConfirmCasesCount  DeathCount  Population  \n",
       "0                  0           0         0.0  \n",
       "1                  0           0     55869.0  \n",
       "2                  0           0    223234.0  \n",
       "3                  0           0     24686.0  \n",
       "4                  0           0     22394.0  "
      ]
     },
     "execution_count": 163,
     "metadata": {},
     "output_type": "execute_result"
    }
   ],
   "source": [
    "JoinKeys = ['State', 'CountyFIPS','CountyName']\n",
    "USConfirmCasesDeathsDF['CountyName'] = USConfirmCasesDeathsDF[\"CountyName\"].str.strip()\n",
    "USCovid19DF = pd.merge(USConfirmCasesDeathsDF, USCountyPopulationDF, on=JoinKeys, how='left')\n",
    "USCovid19DF.head()"
   ]
  },
  {
   "cell_type": "markdown",
   "id": "f382db7f-0ae6-44c6-802c-e0100d51bf9d",
   "metadata": {},
   "source": [
    "##### We have merged US Covid19 Confirmed Death combined and Population datasets by using below steps.\n",
    "- Taken all common columns between data sets. i.e. State, CountyFIPS, CountyName\n",
    "- Even though we can just join based on CountyFIPS, we have taken Names as well since they all come from same soure i.e. usafacts.org\n",
    "- We have tested with and without names, both gives same results.\n",
    "- Also to avoid missing data due to joins, we have used left join on County Population to ConfirmCase&Deaths.\n",
    "- So merged based on above columns and verified data, they are all looks good except Population column as float64"
   ]
  },
  {
   "cell_type": "code",
   "execution_count": 164,
   "id": "215a1f6a-207f-4db4-a968-8b9ed0f83445",
   "metadata": {},
   "outputs": [],
   "source": [
    "#Mapping the state with its Names. This will be helpful later when we perform merging with the super COVID-19 dataset.\n",
    "USStateMapping = {\n",
    "    'AK': 'Alaska',\n",
    "    'AL': 'Alabama',\n",
    "    'AR': 'Arkansas',\n",
    "    'AZ': 'Arizona',\n",
    "    'CA': 'California',\n",
    "    'CO': 'Colorado',\n",
    "    'CT': 'Connecticut',\n",
    "    'DC': 'District of Columbia',\n",
    "    'DE': 'Delaware',\n",
    "    'FL': 'Florida',\n",
    "    'GA': 'Georgia',\n",
    "    'HI': 'Hawaii',\n",
    "    'IA': 'Iowa',\n",
    "    'ID': 'Idaho',\n",
    "    'IL': 'Illinois',\n",
    "    'IN': 'Indiana',\n",
    "    'KS': 'Kansas',\n",
    "    'KY': 'Kentucky',\n",
    "    'LA': 'Louisiana',\n",
    "    'MA': 'Massachusetts',\n",
    "    'MD': 'Maryland',\n",
    "    'ME': 'Maine',\n",
    "    'MI': 'Michigan',\n",
    "    'MN': 'Minnesota',\n",
    "    'MO': 'Missouri',\n",
    "    'MS': 'Mississippi',\n",
    "    'MT': 'Montana',\n",
    "    'NC': 'North Carolina',\n",
    "    'ND': 'North Dakota',\n",
    "    'NE': 'Nebraska',\n",
    "    'NH': 'New Hampshire',\n",
    "    'NJ': 'New Jersey',\n",
    "    'NM': 'New Mexico',\n",
    "    'NV': 'Nevada',\n",
    "    'NY': 'New York',\n",
    "    'OH': 'Ohio',\n",
    "    'OK': 'Oklahoma',\n",
    "    'OR': 'Oregon',\n",
    "    'PA': 'Pennsylvania',\n",
    "    'RI': 'Rhode Island',\n",
    "    'SC': 'South Carolina',\n",
    "    'SD': 'South Dakota',\n",
    "    'TN': 'Tennessee',\n",
    "    'TX': 'Texas',\n",
    "    'UT': 'Utah',\n",
    "    'VA': 'Virginia',\n",
    "    'VT': 'Vermont',\n",
    "    'WA': 'Washington',\n",
    "    'WI': 'Wisconsin',\n",
    "    'WV': 'West Virginia',\n",
    "    'WY': 'Wyoming'\n",
    "}"
   ]
  },
  {
   "cell_type": "markdown",
   "id": "8ed7f62f-bb34-46fa-86f0-0cae89e57a6b",
   "metadata": {},
   "source": [
    "##### Since most of datasets(Enrichment Data) contains only State Names instead of State&StateFIPS, which is missing in final combined COVID19 dataset.\n",
    "- We have taken US States Codes & Names mapping in a list"
   ]
  },
  {
   "cell_type": "code",
   "execution_count": 166,
   "id": "b4b76e80-9b6e-4b90-9c8c-cc32339b1241",
   "metadata": {},
   "outputs": [
    {
     "name": "stdout",
     "output_type": "stream",
     "text": [
      "<class 'pandas.core.frame.DataFrame'>\n",
      "Int64Index: 2397943 entries, 0 to 2397942\n",
      "Data columns (total 9 columns):\n",
      " #   Column             Dtype         \n",
      "---  ------             -----         \n",
      " 0   ReportDate         datetime64[ns]\n",
      " 1   StateFIPS          int64         \n",
      " 2   State              object        \n",
      " 3   StateName          object        \n",
      " 4   CountyFIPS         int64         \n",
      " 5   CountyName         object        \n",
      " 6   ConfirmCasesCount  int64         \n",
      " 7   DeathCount         int64         \n",
      " 8   Population         Int64         \n",
      "dtypes: Int64(1), datetime64[ns](1), int64(4), object(3)\n",
      "memory usage: 185.2+ MB\n"
     ]
    }
   ],
   "source": [
    "USCovid19DF['StateName']=USCovid19DF['State'].map(USStateMapping)\n",
    "USCovid19DF = USCovid19DF[['ReportDate', 'StateFIPS', 'State', 'StateName', 'CountyFIPS','CountyName','ConfirmCasesCount','DeathCount','Population']]\n",
    "USCovid19DF['Population']=USCovid19DF['Population'].astype('Int64')\n",
    "USCovid19DF['ReportDate'] = pd.to_datetime(USCovid19DF['ReportDate'], format='%Y-%m-%d')\n",
    "USCovid19DF.info()"
   ]
  },
  {
   "cell_type": "markdown",
   "id": "9c93ac36-380c-4788-b4b5-683c478c3c1e",
   "metadata": {},
   "source": [
    "##### Covid19 combined dataset improvements and make useful & easy next steps for analysis\n",
    "- Added StateName column based on States Mapping list\n",
    "- Rearranged columns for easy readability\n",
    "- Converted Population column datatype from Float to Int\n",
    "- Converted ReportDate datatype from Object to Date datatype\n",
    "- Verified data and now Population&StateName added to final dataset"
   ]
  },
  {
   "cell_type": "code",
   "execution_count": 167,
   "id": "5b4bddc0-7c9b-4d46-a616-a40f61357a7e",
   "metadata": {},
   "outputs": [
    {
     "data": {
      "text/plain": [
       "ReportDate               0\n",
       "StateFIPS                0\n",
       "State                    0\n",
       "StateName                0\n",
       "CountyFIPS               0\n",
       "CountyName               0\n",
       "ConfirmCasesCount        0\n",
       "DeathCount               0\n",
       "Population           43558\n",
       "dtype: int64"
      ]
     },
     "execution_count": 167,
     "metadata": {},
     "output_type": "execute_result"
    }
   ],
   "source": [
    "USCovid19DF.isnull().sum()"
   ]
  },
  {
   "cell_type": "markdown",
   "id": "71818445-7a84-49ef-9b3a-eb010d805326",
   "metadata": {},
   "source": [
    "##### Verified final Covid19 Dataset has any null values, observe data Population column has 43,558 blanks(due to left join) outof 2,397,943"
   ]
  },
  {
   "cell_type": "code",
   "execution_count": 168,
   "id": "49157825-a204-48c1-af5c-4dba46ad3ddc",
   "metadata": {},
   "outputs": [
    {
     "data": {
      "text/html": [
       "<div>\n",
       "<style scoped>\n",
       "    .dataframe tbody tr th:only-of-type {\n",
       "        vertical-align: middle;\n",
       "    }\n",
       "\n",
       "    .dataframe tbody tr th {\n",
       "        vertical-align: top;\n",
       "    }\n",
       "\n",
       "    .dataframe thead th {\n",
       "        text-align: right;\n",
       "    }\n",
       "</style>\n",
       "<table border=\"1\" class=\"dataframe\">\n",
       "  <thead>\n",
       "    <tr style=\"text-align: right;\">\n",
       "      <th></th>\n",
       "      <th>ReportDate</th>\n",
       "      <th>StateFIPS</th>\n",
       "      <th>State</th>\n",
       "      <th>StateName</th>\n",
       "      <th>CountyFIPS</th>\n",
       "      <th>CountyName</th>\n",
       "      <th>ConfirmCasesCount</th>\n",
       "      <th>DeathCount</th>\n",
       "      <th>Population</th>\n",
       "    </tr>\n",
       "  </thead>\n",
       "  <tbody>\n",
       "    <tr>\n",
       "      <th>0</th>\n",
       "      <td>2020-01-22</td>\n",
       "      <td>1</td>\n",
       "      <td>AL</td>\n",
       "      <td>Alabama</td>\n",
       "      <td>0</td>\n",
       "      <td>Statewide Unallocated</td>\n",
       "      <td>0</td>\n",
       "      <td>0</td>\n",
       "      <td>0.0</td>\n",
       "    </tr>\n",
       "    <tr>\n",
       "      <th>1</th>\n",
       "      <td>2020-01-22</td>\n",
       "      <td>1</td>\n",
       "      <td>AL</td>\n",
       "      <td>Alabama</td>\n",
       "      <td>1001</td>\n",
       "      <td>Autauga County</td>\n",
       "      <td>0</td>\n",
       "      <td>0</td>\n",
       "      <td>55869.0</td>\n",
       "    </tr>\n",
       "    <tr>\n",
       "      <th>2</th>\n",
       "      <td>2020-01-22</td>\n",
       "      <td>1</td>\n",
       "      <td>AL</td>\n",
       "      <td>Alabama</td>\n",
       "      <td>1003</td>\n",
       "      <td>Baldwin County</td>\n",
       "      <td>0</td>\n",
       "      <td>0</td>\n",
       "      <td>223234.0</td>\n",
       "    </tr>\n",
       "    <tr>\n",
       "      <th>3</th>\n",
       "      <td>2020-01-22</td>\n",
       "      <td>1</td>\n",
       "      <td>AL</td>\n",
       "      <td>Alabama</td>\n",
       "      <td>1005</td>\n",
       "      <td>Barbour County</td>\n",
       "      <td>0</td>\n",
       "      <td>0</td>\n",
       "      <td>24686.0</td>\n",
       "    </tr>\n",
       "    <tr>\n",
       "      <th>4</th>\n",
       "      <td>2020-01-22</td>\n",
       "      <td>1</td>\n",
       "      <td>AL</td>\n",
       "      <td>Alabama</td>\n",
       "      <td>1007</td>\n",
       "      <td>Bibb County</td>\n",
       "      <td>0</td>\n",
       "      <td>0</td>\n",
       "      <td>22394.0</td>\n",
       "    </tr>\n",
       "  </tbody>\n",
       "</table>\n",
       "</div>"
      ],
      "text/plain": [
       "   ReportDate  StateFIPS State StateName  CountyFIPS             CountyName  \\\n",
       "0  2020-01-22          1    AL   Alabama           0  Statewide Unallocated   \n",
       "1  2020-01-22          1    AL   Alabama        1001         Autauga County   \n",
       "2  2020-01-22          1    AL   Alabama        1003         Baldwin County   \n",
       "3  2020-01-22          1    AL   Alabama        1005         Barbour County   \n",
       "4  2020-01-22          1    AL   Alabama        1007            Bibb County   \n",
       "\n",
       "   ConfirmCasesCount  DeathCount  Population  \n",
       "0                  0           0         0.0  \n",
       "1                  0           0     55869.0  \n",
       "2                  0           0    223234.0  \n",
       "3                  0           0     24686.0  \n",
       "4                  0           0     22394.0  "
      ]
     },
     "execution_count": 168,
     "metadata": {},
     "output_type": "execute_result"
    }
   ],
   "source": [
    "USCovid19DF.to_csv('..\\\\..\\\\Data\\\\US_Covid_19_Dataset.csv', index=False)\n",
    "USCovid19ReadDF = pd.read_csv('..\\\\..\\\\Data\\\\US_Covid_19_Dataset.csv')\n",
    "USCovid19ReadDF.head()"
   ]
  },
  {
   "cell_type": "markdown",
   "id": "21313bfc-e74a-4985-a46f-4ad7927d983a",
   "metadata": {},
   "source": [
    "###### Exported Python Dataframe data into csv file and stored under Data directory named: US_Covid_19_Dataset.csv\n",
    "- And also read again from final dataset data into dataframe and verified all working fine for next Enrichment analysis\n",
    "- We have observed that again Population datatype changed from Int to Float, which we handled in Enrichment data integration"
   ]
  },
  {
   "cell_type": "code",
   "execution_count": 169,
   "id": "f45adf27-8591-45f0-aeef-aab8f90f0fde",
   "metadata": {},
   "outputs": [
    {
     "name": "stdout",
     "output_type": "stream",
     "text": [
      "<class 'pandas.core.frame.DataFrame'>\n",
      "RangeIndex: 2397943 entries, 0 to 2397942\n",
      "Data columns (total 9 columns):\n",
      " #   Column             Dtype \n",
      "---  ------             ----- \n",
      " 0   ReportDate         object\n",
      " 1   StateFIPS          int64 \n",
      " 2   State              object\n",
      " 3   StateName          object\n",
      " 4   CountyFIPS         int64 \n",
      " 5   CountyName         object\n",
      " 6   ConfirmCasesCount  int64 \n",
      " 7   DeathCount         int64 \n",
      " 8   Population         Int64 \n",
      "dtypes: Int64(1), int64(4), object(4)\n",
      "memory usage: 166.9+ MB\n"
     ]
    }
   ],
   "source": [
    "USCovid19ReadDF['Population']=USCovid19ReadDF['Population'].astype('Int64')\n",
    "USCovid19ReadDF.info()"
   ]
  },
  {
   "cell_type": "markdown",
   "id": "88bcdfbb-47d2-473d-a427-553810c91ca4",
   "metadata": {},
   "source": [
    "##### Converted Population Datatype from Float to Int, since its changed during reimport final dataset from CSV "
   ]
  }
 ],
 "metadata": {
  "kernelspec": {
   "display_name": "Python 3 (ipykernel)",
   "language": "python",
   "name": "python3"
  },
  "language_info": {
   "codemirror_mode": {
    "name": "ipython",
    "version": 3
   },
   "file_extension": ".py",
   "mimetype": "text/x-python",
   "name": "python",
   "nbconvert_exporter": "python",
   "pygments_lexer": "ipython3",
   "version": "3.9.7"
  }
 },
 "nbformat": 4,
 "nbformat_minor": 5
}
